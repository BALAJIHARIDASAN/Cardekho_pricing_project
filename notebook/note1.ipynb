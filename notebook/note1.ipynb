{
 "cells": [
  {
   "cell_type": "code",
   "execution_count": 1,
   "metadata": {},
   "outputs": [],
   "source": [
    "from flask import Flask"
   ]
  },
  {
   "cell_type": "code",
   "execution_count": 10,
   "metadata": {},
   "outputs": [],
   "source": [
    "from setuptools import setup,find_packages\n",
    "from typing import List\n",
    "\n",
    "\n",
    "REQUIREMENT_FILE_NAME=r\"C:\\Users\\91822\\Desktop\\git_hub\\Housing_power_consumption_project\\requirements.txt\"\n",
    "\n",
    "HYPHEN_E_DOT = \"-e .\"\n",
    "\n",
    "\n",
    "def get_requirements_list() -> List[str]:\n",
    "    \"\"\"\n",
    "    Description: This function is going to return list of requirement\n",
    "    mention in requirements.txt file\n",
    "    return This function is going to return a list which contain name\n",
    "    of libraries mentioned in requirements.txt file\n",
    "    \"\"\"\n",
    "    with open(REQUIREMENT_FILE_NAME) as requirement_file:\n",
    "        requirement_list = requirement_file.readlines()\n",
    "        requirement_list = [requirement_name.replace(\"\\n\", \"\") for requirement_name in requirement_list]\n",
    "        if HYPHEN_E_DOT in requirement_list:\n",
    "            requirement_list.remove(HYPHEN_E_DOT)\n",
    "        return requirement_list\n",
    "\n"
   ]
  },
  {
   "cell_type": "code",
   "execution_count": 11,
   "metadata": {},
   "outputs": [
    {
     "data": {
      "text/plain": [
       "['numpy',\n",
       " 'Flask',\n",
       " 'gunicorn',\n",
       " 'sklearn',\n",
       " 'pandas',\n",
       " 'PyYAML',\n",
       " 'evidently',\n",
       " 'dill',\n",
       " 'pytest',\n",
       " 'matplotlib']"
      ]
     },
     "execution_count": 11,
     "metadata": {},
     "output_type": "execute_result"
    }
   ],
   "source": [
    "\n",
    "\n",
    "\n",
    "get_requirements_list()"
   ]
  },
  {
   "cell_type": "code",
   "execution_count": null,
   "metadata": {},
   "outputs": [],
   "source": []
  },
  {
   "cell_type": "code",
   "execution_count": null,
   "metadata": {},
   "outputs": [],
   "source": []
  }
 ],
 "metadata": {
  "kernelspec": {
   "display_name": "Python 3",
   "language": "python",
   "name": "python3"
  },
  "language_info": {
   "codemirror_mode": {
    "name": "ipython",
    "version": 3
   },
   "file_extension": ".py",
   "mimetype": "text/x-python",
   "name": "python",
   "nbconvert_exporter": "python",
   "pygments_lexer": "ipython3",
   "version": "3.7.0"
  },
  "orig_nbformat": 4,
  "vscode": {
   "interpreter": {
    "hash": "fef1154e4527739dce97d017e9023294e55c9057294ca57a6a15f98cea910ced"
   }
  }
 },
 "nbformat": 4,
 "nbformat_minor": 2
}
